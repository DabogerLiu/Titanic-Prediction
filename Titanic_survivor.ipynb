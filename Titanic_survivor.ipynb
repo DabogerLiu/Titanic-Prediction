{
  "nbformat": 4,
  "nbformat_minor": 0,
  "metadata": {
    "colab": {
      "name": "Titanic_survivor.ipynb",
      "provenance": [],
      "collapsed_sections": []
    },
    "kernelspec": {
      "name": "python3",
      "display_name": "Python 3"
    }
  },
  "cells": [
    {
      "cell_type": "markdown",
      "metadata": {
        "id": "AJBQnDLRqQbV",
        "colab_type": "text"
      },
      "source": [
        "Predict the survivors from Titanic"
      ]
    },
    {
      "cell_type": "code",
      "metadata": {
        "id": "94blL8JQowtC",
        "colab_type": "code",
        "colab": {}
      },
      "source": [
        "import numpy as np\n",
        "import pandas as pd\n",
        "import matplotlib.pyplot as plt\n",
        "from patsy import dmatrices\n",
        "from sklearn.linear_model import LogisticRegression\n",
        "from sklearn.model_selection import train_test_split, cross_val_score\n",
        "from sklearn import metrics "
      ],
      "execution_count": 0,
      "outputs": []
    },
    {
      "cell_type": "markdown",
      "metadata": {
        "id": "9ahaQG9zqIvW",
        "colab_type": "text"
      },
      "source": [
        "Read the train.csv"
      ]
    },
    {
      "cell_type": "code",
      "metadata": {
        "id": "tHb7x3lMqNyl",
        "colab_type": "code",
        "outputId": "e29244ec-81f1-4040-b4a3-f3deece80a14",
        "colab": {
          "base_uri": "https://localhost:8080/",
          "height": 238
        }
      },
      "source": [
        "data = pd.read_csv('/content/train.csv')\n",
        "data.describe\n",
        "print(data.dtypes)"
      ],
      "execution_count": 65,
      "outputs": [
        {
          "output_type": "stream",
          "text": [
            "PassengerId      int64\n",
            "Survived         int64\n",
            "Pclass           int64\n",
            "Name            object\n",
            "Sex             object\n",
            "Age            float64\n",
            "SibSp            int64\n",
            "Parch            int64\n",
            "Ticket          object\n",
            "Fare           float64\n",
            "Cabin           object\n",
            "Embarked        object\n",
            "dtype: object\n"
          ],
          "name": "stdout"
        }
      ]
    },
    {
      "cell_type": "code",
      "metadata": {
        "id": "xwZ2v63kqwj_",
        "colab_type": "code",
        "colab": {}
      },
      "source": [
        "data = data.drop(['Ticket', 'Cabin'], axis = 1)\n",
        "data = data.dropna()\n"
      ],
      "execution_count": 0,
      "outputs": []
    },
    {
      "cell_type": "code",
      "metadata": {
        "id": "cmQjrCDuudcM",
        "colab_type": "code",
        "outputId": "45b177de-f340-4458-b599-8c664df3b238",
        "colab": {
          "base_uri": "https://localhost:8080/",
          "height": 34
        }
      },
      "source": [
        "len(data.index)"
      ],
      "execution_count": 0,
      "outputs": [
        {
          "output_type": "execute_result",
          "data": {
            "text/plain": [
              "712"
            ]
          },
          "metadata": {
            "tags": []
          },
          "execution_count": 51
        }
      ]
    },
    {
      "cell_type": "markdown",
      "metadata": {
        "id": "7Yj5YICBxUNU",
        "colab_type": "text"
      },
      "source": [
        "Plot survived VS dead"
      ]
    },
    {
      "cell_type": "code",
      "metadata": {
        "id": "FX6QkipsusMC",
        "colab_type": "code",
        "outputId": "f3fc3c30-a345-44fe-91e8-4dbfe1e53df5",
        "colab": {
          "base_uri": "https://localhost:8080/",
          "height": 279
        }
      },
      "source": [
        "data.Survived.value_counts().plot(kind='barh')\n",
        "plt.xlabel('Survived')\n",
        "plt.show()"
      ],
      "execution_count": 0,
      "outputs": [
        {
          "output_type": "display_data",
          "data": {
            "image/png": "[encoded data removed]",
            "text/plain": [
              "<Figure size 432x288 with 1 Axes>"
            ]
          },
          "metadata": {
            "tags": []
          }
        }
      ]
    },
    {
      "cell_type": "markdown",
      "metadata": {
        "id": "i6dH-MjaxZbp",
        "colab_type": "text"
      },
      "source": [
        "Plot female survived and dead"
      ]
    },
    {
      "cell_type": "code",
      "metadata": {
        "id": "JIOSVhU0wcJP",
        "colab_type": "code",
        "outputId": "94681c9c-cc28-42ff-c526-7e5230ff3e9d",
        "colab": {
          "base_uri": "https://localhost:8080/",
          "height": 279
        }
      },
      "source": [
        "female = data.Survived[data.Sex == 'female'].value_counts().sort_index()\n",
        "female.plot(kind='barh')\n",
        "plt.xlabel('Survived')\n",
        "plt.show()"
      ],
      "execution_count": 0,
      "outputs": [
        {
          "output_type": "display_data",
          "data": {
            "image/png": "[encoded data removed]",
            "text/plain": [
              "<Figure size 432x288 with 1 Axes>"
            ]
          },
          "metadata": {
            "tags": []
          }
        }
      ]
    },
    {
      "cell_type": "markdown",
      "metadata": {
        "id": "_INw6c7CxfSK",
        "colab_type": "text"
      },
      "source": [
        "Plot Male Survived VS Dead"
      ]
    },
    {
      "cell_type": "code",
      "metadata": {
        "id": "9Anaefpbxkrt",
        "colab_type": "code",
        "outputId": "dddf496a-929e-49dd-fc8c-0b60ea3fd704",
        "colab": {
          "base_uri": "https://localhost:8080/",
          "height": 265
        }
      },
      "source": [
        "male = data.Survived[data.Sex == 'male'].value_counts().sort_index()\n",
        "male.plot(kind='barh',label='Male', color='red')\n",
        "plt.show()"
      ],
      "execution_count": 0,
      "outputs": [
        {
          "output_type": "display_data",
          "data": {
            "image/png": "[encoded data removed]",
            "text/plain": [
              "<Figure size 432x288 with 1 Axes>"
            ]
          },
          "metadata": {
            "tags": []
          }
        }
      ]
    },
    {
      "cell_type": "markdown",
      "metadata": {
        "id": "VzYjbeVYzZ8A",
        "colab_type": "text"
      },
      "source": [
        "Female survivors are greater then male."
      ]
    },
    {
      "cell_type": "markdown",
      "metadata": {
        "id": "M25Q9o5hxv2K",
        "colab_type": "text"
      },
      "source": [
        "Class level in high`class"
      ]
    },
    {
      "cell_type": "code",
      "metadata": {
        "id": "XHR44uFOx55z",
        "colab_type": "code",
        "outputId": "49e5e86e-cfad-4d6a-8cc5-65f3c6bfeba9",
        "colab": {
          "base_uri": "https://localhost:8080/",
          "height": 265
        }
      },
      "source": [
        "highclass = data.Survived[data.Pclass != 3].value_counts().sort_index()\n",
        "highclass.plot(kind='barh',label='Highclass', color='red', alpha=0.6)\n",
        "plt.show()"
      ],
      "execution_count": 0,
      "outputs": [
        {
          "output_type": "display_data",
          "data": {
            "image/png": "[encoded data removed]",
            "text/plain": [
              "<Figure size 432x288 with 1 Axes>"
            ]
          },
          "metadata": {
            "tags": []
          }
        }
      ]
    },
    {
      "cell_type": "markdown",
      "metadata": {
        "id": "Dy0qIo2hzAb-",
        "colab_type": "text"
      },
      "source": [
        "Class level in low class"
      ]
    },
    {
      "cell_type": "code",
      "metadata": {
        "id": "JoLMlz5IzRhV",
        "colab_type": "code",
        "outputId": "89af7bd3-cd3f-4727-cfe3-2153630bfcd0",
        "colab": {
          "base_uri": "https://localhost:8080/",
          "height": 265
        }
      },
      "source": [
        "lowclass = data.Survived[data.Pclass == 3].value_counts().sort_index()\n",
        "lowclass.plot(kind='barh',label='Highclass', color='Yellow', alpha=0.6)\n",
        "plt.show()"
      ],
      "execution_count": 0,
      "outputs": [
        {
          "output_type": "display_data",
          "data": {
            "image/png": "[encoded data removed]",
            "text/plain": [
              "<Figure size 432x288 with 1 Axes>"
            ]
          },
          "metadata": {
            "tags": []
          }
        }
      ]
    },
    {
      "cell_type": "markdown",
      "metadata": {
        "id": "DF45C8A7zRSl",
        "colab_type": "text"
      },
      "source": [
        "Passengers in high class are more likely to survive"
      ]
    },
    {
      "cell_type": "code",
      "metadata": {
        "id": "fJ3jYKzs5nOI",
        "colab_type": "code",
        "colab": {
          "base_uri": "https://localhost:8080/",
          "height": 265
        },
        "outputId": "3858fa07-c3ea-4e6d-ddbc-3d23c5867812"
      },
      "source": [
        "Elder = data.Survived[data.Age>=60 ].value_counts().sort_index()\n",
        "Elder.plot(kind='barh', color='blue', alpha=0.6)\n",
        "plt.show()"
      ],
      "execution_count": 95,
      "outputs": [
        {
          "output_type": "display_data",
          "data": {
            "image/png": "[encoded data removed]",
            "text/plain": [
              "<Figure size 432x288 with 1 Axes>"
            ]
          },
          "metadata": {
            "tags": []
          }
        }
      ]
    },
    {
      "cell_type": "markdown",
      "metadata": {
        "id": "cDO_IOhA6y0f",
        "colab_type": "text"
      },
      "source": [
        "Passanger older than 60 are less likely to survive"
      ]
    },
    {
      "cell_type": "code",
      "metadata": {
        "id": "9aEyVGbA57Wf",
        "colab_type": "code",
        "colab": {
          "base_uri": "https://localhost:8080/",
          "height": 265
        },
        "outputId": "4f9f2eaa-27d8-4da2-abfd-b7f989e88750"
      },
      "source": [
        "Young = data.Survived[data.Age<15 ].value_counts().sort_index()\n",
        "Young.plot(kind='barh', color='blue', alpha=0.6)\n",
        "plt.show()"
      ],
      "execution_count": 94,
      "outputs": [
        {
          "output_type": "display_data",
          "data": {
            "image/png": "[encoded data removed]",
            "text/plain": [
              "<Figure size 432x288 with 1 Axes>"
            ]
          },
          "metadata": {
            "tags": []
          }
        }
      ]
    },
    {
      "cell_type": "markdown",
      "metadata": {
        "id": "LGvWFFe8663S",
        "colab_type": "text"
      },
      "source": [
        "Passengers younger than 15 are more likely to survive"
      ]
    },
    {
      "cell_type": "markdown",
      "metadata": {
        "id": "jyqY5nVf2_fc",
        "colab_type": "text"
      },
      "source": [
        "Embark locations  "
      ]
    },
    {
      "cell_type": "code",
      "metadata": {
        "id": "5IWtDgc129qd",
        "colab_type": "code",
        "colab": {
          "base_uri": "https://localhost:8080/",
          "height": 265
        },
        "outputId": "a6d151ea-d915-45af-d6dd-c7028bfe04d2"
      },
      "source": [
        "EmbarkedC = data.Survived[data.Embarked=='C' ].value_counts().sort_index()\n",
        "EmbarkedC.plot(kind='barh',label='C', color='blue', alpha=0.6)\n",
        "plt.show()"
      ],
      "execution_count": 72,
      "outputs": [
        {
          "output_type": "display_data",
          "data": {
            "image/png": "[encoded data removed]",
            "text/plain": [
              "<Figure size 432x288 with 1 Axes>"
            ]
          },
          "metadata": {
            "tags": []
          }
        }
      ]
    },
    {
      "cell_type": "code",
      "metadata": {
        "id": "cBMvhY0s3-GA",
        "colab_type": "code",
        "colab": {
          "base_uri": "https://localhost:8080/",
          "height": 265
        },
        "outputId": "10f097d8-4893-4864-d96f-ee69618c079c"
      },
      "source": [
        "EmbarkedQ = data.Survived[data.Embarked=='Q' ].value_counts().sort_index()\n",
        "EmbarkedQ .plot(kind='barh',label='Q', color='blue', alpha=0.6)\n",
        "plt.show()"
      ],
      "execution_count": 73,
      "outputs": [
        {
          "output_type": "display_data",
          "data": {
            "image/png": "[encoded data removed]",
            "text/plain": [
              "<Figure size 432x288 with 1 Axes>"
            ]
          },
          "metadata": {
            "tags": []
          }
        }
      ]
    },
    {
      "cell_type": "code",
      "metadata": {
        "id": "_-olpycc4JUe",
        "colab_type": "code",
        "colab": {
          "base_uri": "https://localhost:8080/",
          "height": 265
        },
        "outputId": "25995f50-8519-422c-b1e9-14e6c42aec53"
      },
      "source": [
        "EmbarkedS = data.Survived[data.Embarked=='S' ].value_counts().sort_index()\n",
        "EmbarkedS.plot(kind='barh',label='S', color='blue', alpha=0.6)\n",
        "plt.show()"
      ],
      "execution_count": 74,
      "outputs": [
        {
          "output_type": "display_data",
          "data": {
            "image/png": "[encoded data removed]",
            "text/plain": [
              "<Figure size 432x288 with 1 Axes>"
            ]
          },
          "metadata": {
            "tags": []
          }
        }
      ]
    },
    {
      "cell_type": "markdown",
      "metadata": {
        "id": "0v87nWqd5BB1",
        "colab_type": "text"
      },
      "source": [
        "Passangers with embarked label C are more likely to survivre S & Q"
      ]
    },
    {
      "cell_type": "markdown",
      "metadata": {
        "id": "G4rpZgvY5fwi",
        "colab_type": "text"
      },
      "source": [
        "Plass, Sex, Age and Embarked are related to a passenger's survive."
      ]
    },
    {
      "cell_type": "code",
      "metadata": {
        "id": "-sU00W-r1Hns",
        "colab_type": "code",
        "colab": {
          "base_uri": "https://localhost:8080/",
          "height": 102
        },
        "outputId": "b387a787-e470-4064-eed5-a39758fae8b2"
      },
      "source": [
        "y, X = dmatrices('Survived~ C(Pclass) + C(Sex) + Age + C(Embarked)', data = data, return_type='dataframe')\n",
        "y = np.ravel(y)\n",
        "model = LogisticRegression()\n",
        "model.fit(X, y)"
      ],
      "execution_count": 62,
      "outputs": [
        {
          "output_type": "execute_result",
          "data": {
            "text/plain": [
              "LogisticRegression(C=1.0, class_weight=None, dual=False, fit_intercept=True,\n",
              "                   intercept_scaling=1, l1_ratio=None, max_iter=100,\n",
              "                   multi_class='auto', n_jobs=None, penalty='l2',\n",
              "                   random_state=None, solver='lbfgs', tol=0.0001, verbose=0,\n",
              "                   warm_start=False)"
            ]
          },
          "metadata": {
            "tags": []
          },
          "execution_count": 62
        }
      ]
    },
    {
      "cell_type": "code",
      "metadata": {
        "id": "XyNr7bky1T9v",
        "colab_type": "code",
        "colab": {
          "base_uri": "https://localhost:8080/",
          "height": 34
        },
        "outputId": "e970f616-3cef-4bbf-9c74-36d82dbb8210"
      },
      "source": [
        "model.score(X, y)"
      ],
      "execution_count": 63,
      "outputs": [
        {
          "output_type": "execute_result",
          "data": {
            "text/plain": [
              "0.7935393258426966"
            ]
          },
          "metadata": {
            "tags": []
          },
          "execution_count": 63
        }
      ]
    },
    {
      "cell_type": "code",
      "metadata": {
        "id": "DNsbHF_u7rrl",
        "colab_type": "code",
        "colab": {
          "base_uri": "https://localhost:8080/",
          "height": 266
        },
        "outputId": "fd68d163-a3f1-4e27-90cc-1b5f4634cb5e"
      },
      "source": [
        "1-y.mean()\n",
        "pd.DataFrame(list(zip(X.columns, np.transpose(model.coef_))))"
      ],
      "execution_count": 98,
      "outputs": [
        {
          "output_type": "execute_result",
          "data": {
            "text/html": [
              "<div>\n",
              "<style scoped>\n",
              "    .dataframe tbody tr th:only-of-type {\n",
              "        vertical-align: middle;\n",
              "    }\n",
              "\n",
              "    .dataframe tbody tr th {\n",
              "        vertical-align: top;\n",
              "    }\n",
              "\n",
              "    .dataframe thead th {\n",
              "        text-align: right;\n",
              "    }\n",
              "</style>\n",
              "<table border=\"1\" class=\"dataframe\">\n",
              "  <thead>\n",
              "    <tr style=\"text-align: right;\">\n",
              "      <th></th>\n",
              "      <th>0</th>\n",
              "      <th>1</th>\n",
              "    </tr>\n",
              "  </thead>\n",
              "  <tbody>\n",
              "    <tr>\n",
              "      <th>0</th>\n",
              "      <td>Intercept</td>\n",
              "      <td>[-0.0012011677644107924]</td>\n",
              "    </tr>\n",
              "    <tr>\n",
              "      <th>1</th>\n",
              "      <td>C(Pclass)[T.2]</td>\n",
              "      <td>[-0.9541388024267861]</td>\n",
              "    </tr>\n",
              "    <tr>\n",
              "      <th>2</th>\n",
              "      <td>C(Pclass)[T.3]</td>\n",
              "      <td>[-2.1804730653498545]</td>\n",
              "    </tr>\n",
              "    <tr>\n",
              "      <th>3</th>\n",
              "      <td>C(Sex)[T.male]</td>\n",
              "      <td>[-2.3752891614403198]</td>\n",
              "    </tr>\n",
              "    <tr>\n",
              "      <th>4</th>\n",
              "      <td>C(Embarked)[T.Q]</td>\n",
              "      <td>[-0.6390592683909245]</td>\n",
              "    </tr>\n",
              "    <tr>\n",
              "      <th>5</th>\n",
              "      <td>C(Embarked)[T.S]</td>\n",
              "      <td>[-0.47926880397213645]</td>\n",
              "    </tr>\n",
              "    <tr>\n",
              "      <th>6</th>\n",
              "      <td>Age</td>\n",
              "      <td>[-0.03314300131730369]</td>\n",
              "    </tr>\n",
              "  </tbody>\n",
              "</table>\n",
              "</div>"
            ],
            "text/plain": [
              "                  0                         1\n",
              "0         Intercept  [-0.0012011677644107924]\n",
              "1    C(Pclass)[T.2]     [-0.9541388024267861]\n",
              "2    C(Pclass)[T.3]     [-2.1804730653498545]\n",
              "3    C(Sex)[T.male]     [-2.3752891614403198]\n",
              "4  C(Embarked)[T.Q]     [-0.6390592683909245]\n",
              "5  C(Embarked)[T.S]    [-0.47926880397213645]\n",
              "6               Age    [-0.03314300131730369]"
            ]
          },
          "metadata": {
            "tags": []
          },
          "execution_count": 98
        }
      ]
    },
    {
      "cell_type": "code",
      "metadata": {
        "id": "579Q85tE8HWE",
        "colab_type": "code",
        "colab": {}
      },
      "source": [
        "test_data = pd.read_csv('/content/test.csv')\n",
        "test_data['Survived'] = 1\n",
        "test_data.loc[np.isnan(test_data.Age), 'Age'] = np.mean(data['Age'])\n",
        "ytest, Xtest = dmatrices('Survived~ C(Pclass) + C(Sex) + Age + C(Embarked)', data = test_data, return_type='dataframe')\n",
        "pred = model.predict(Xtest).astype(int)\n",
        "solution = pd.DataFrame(list(zip(test_data['PassengerId'], pred)), columns=['PassengerID', 'Survived'])\n",
        "solution.to_csv('/content/my_prediction.csv', index = False)"
      ],
      "execution_count": 0,
      "outputs": []
    }
  ]
}